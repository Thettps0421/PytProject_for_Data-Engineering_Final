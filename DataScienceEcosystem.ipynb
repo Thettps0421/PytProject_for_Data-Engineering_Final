{
 "cells": [
  {
   "cell_type": "markdown",
   "id": "3d668c89-656f-4545-bcca-2cfe50a40aa0",
   "metadata": {},
   "source": [
    "<h1><center><span style='color:#FF1493'> # Ex2: Data Science Tools and Ecosystem </span></center></h1>"
   ]
  },
  {
   "cell_type": "markdown",
   "id": "ba06ec0b-f467-46d6-a3e9-4a4083ab63e4",
   "metadata": {},
   "source": [
    "<span style='color:#FF69B4'> Ex3: In this notebook, Data Science Tools and Ecosystem are summarized. </span>"
   ]
  },
  {
   "cell_type": "markdown",
   "id": "9e9c5c51-b775-4ac2-a5b6-41ee039f0211",
   "metadata": {},
   "source": [
    "Ex4: Some of the popular languages that Data Scientists use are:\n",
    "1. Python\n",
    "1. Java\n",
    "1. C#\n",
    "1. Go\n",
    "1. R\n",
    "1. Lua"
   ]
  },
  {
   "cell_type": "markdown",
   "id": "b9b3b23b-086a-4c68-906d-36b2a2ea63d6",
   "metadata": {},
   "source": [
    " \"Ex5: Some of the commonly used libraries used by Data Scientists include:\"\n",
    " 1. List 1:\n",
    "    1. Pandas\n",
    "    1. TensorFlow\n",
    "    1. scikit-learn\n",
    "    1. PyTorch\n",
    "    1. OpenCV\n",
    " 2. List 2:\n",
    "    1. Pandas\n",
    "    1. TensorFlow\n",
    "    1. scikit-learn\n",
    "    1. PyTorch\n",
    "    1. OpenCV"
   ]
  },
  {
   "cell_type": "markdown",
   "id": "4c33ceef-a72e-477f-a314-6ae01d8208c7",
   "metadata": {},
   "source": [
    "Ex6: Data Science Tools\n",
    "<table style=\"witdh:100%;color:darkblue;border-color: #96D4D4;border: 2px solid\">\n",
    "    <tr>\n",
    "        <th>MS Excel</th>\n",
    "        <th>BigML</th>\n",
    "        <th>Apache Spark</th>\n",
    "        <th>Matlab</th>\n",
    "        <th>Python</th>\n",
    "    </tr>\n",
    "    <tr>\n",
    "        <th>Minitab</th>\n",
    "        <th>Scikit Learn</th>\n",
    "        <th>TensorFlow</th>\n",
    "        <th>Repidminer</th>\n",
    "        <th>Databoot</th>\n",
    "    </tr>\n",
    "    <tr>\n",
    "        <th>R</th>\n",
    "        <th>Go</th>\n",
    "        <th>NLTK</th>\n",
    "        <th>adoop</th>\n",
    "        <th>MS BI</th>\n",
    "    </tr>\n",
    "</table>\n"
   ]
  },
  {
   "cell_type": "markdown",
   "id": "89a5a724-126e-4b46-bc6d-9ecca4245a44",
   "metadata": {},
   "source": [
    "## Ex7: Below are a few examples of evaluating arithmetic expressions in Python\n",
    "## Addition\n",
    "1 + 2\n",
    "\n",
    "## Subtraction\n",
    "5 - 3\n",
    "\n",
    "## Multiplication\n",
    "3 * 4\n",
    "\n",
    "## Division\n",
    "12 / 4\n",
    "\n",
    "## Exponentiation\n",
    "2 ** 3\n",
    "\n",
    "## Modulo\n",
    "10 % 3"
   ]
  },
  {
   "cell_type": "code",
   "execution_count": 20,
   "id": "d9fe80ad-60c5-4beb-af37-0fb920d9ea8b",
   "metadata": {
    "tags": []
   },
   "outputs": [
    {
     "name": "stdout",
     "output_type": "stream",
     "text": [
      "Ex8\n",
      "This a simple arithmetic expression to mutiply then add integers:\n",
      "10 * 5\n",
      "50\n"
     ]
    }
   ],
   "source": [
    "print(\"Ex8\")\n",
    "print(\"This a simple arithmetic expression to mutiply then add integers:\")\n",
    "print(\"10 * 5\")\n",
    "# Calculate the area of a rectangle\n",
    "length = 10\n",
    "width = 5\n",
    "area = length * width\n",
    "\n",
    "# Print the area\n",
    "print(area)"
   ]
  },
  {
   "cell_type": "code",
   "execution_count": 18,
   "id": "a8a6d21b-da73-4fcf-9c50-797f17137b0e",
   "metadata": {
    "tags": []
   },
   "outputs": [
    {
     "name": "stdout",
     "output_type": "stream",
     "text": [
      "Ex9\n",
      "This will convert 200 minutes to hours by diving by 60:\n",
      "3.3333333333333335\n"
     ]
    }
   ],
   "source": [
    "print(\"Ex9\")\n",
    "print(\"This will convert 200 minutes to hours by diving by 60:\")\n",
    "# Convert minutes to hours in Python Jupyter\n",
    "\n",
    "# Get the number of minutes\n",
    "minutes = 200\n",
    "\n",
    "# Convert minutes to hours\n",
    "hours = minutes / 60\n",
    "\n",
    "# Print the number of hours\n",
    "print(hours)"
   ]
  },
  {
   "cell_type": "markdown",
   "id": "2227bfe0-5f3b-4f4d-bfd3-2373b54b9abf",
   "metadata": {
    "tags": []
   },
   "source": [
    "## Ex11:\n",
    "Author:\n",
    "  - Harry, kuzumi1190@gmail.com\n",
    "  - The Trinh, nhokvip04@gmail.com"
   ]
  },
  {
   "cell_type": "code",
   "execution_count": null,
   "id": "1137b918-bdb7-4f81-ac1c-7bfaa3d15923",
   "metadata": {},
   "outputs": [],
   "source": []
  }
 ],
 "metadata": {
  "kernelspec": {
   "display_name": "Python",
   "language": "python",
   "name": "conda-env-python-py"
  },
  "language_info": {
   "codemirror_mode": {
    "name": "ipython",
    "version": 3
   },
   "file_extension": ".py",
   "mimetype": "text/x-python",
   "name": "python",
   "nbconvert_exporter": "python",
   "pygments_lexer": "ipython3",
   "version": "3.7.12"
  }
 },
 "nbformat": 4,
 "nbformat_minor": 5
}
